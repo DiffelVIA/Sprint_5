{
 "cells": [
  {
   "cell_type": "markdown",
   "id": "1e84e37e",
   "metadata": {},
   "source": [
    "# ¿Cuál es la mejor tarifa?\n",
    "\n",
    "Trabajas como analista para el operador de telecomunicaciones Megaline. La empresa ofrece a sus clientes dos tarifas de prepago, Surf y Ultimate. El departamento comercial quiere saber cuál de las tarifas genera más ingresos para poder ajustar el presupuesto de publicidad.\n",
    "\n",
    "Vas a realizar un análisis preliminar de las tarifas basado en una selección de clientes relativamente pequeña. Tendrás los datos de 500 clientes de Megaline: quiénes son los clientes, de dónde son, qué tarifa usan, así como la cantidad de llamadas que hicieron y los mensajes de texto que enviaron en 2018. Tu trabajo es analizar el comportamiento de los clientes y determinar qué tarifa de prepago genera más ingresos."
   ]
  },
  {
   "cell_type": "markdown",
   "id": "af3b284b",
   "metadata": {},
   "source": [
    "[Te proporcionamos algunos comentarios para orientarte mientras completas este proyecto. Pero debes asegurarte de eliminar todos los comentarios entre corchetes antes de entregar tu proyecto.]\n",
    "\n",
    "[Antes de sumergirte en el análisis de datos, explica por tu propia cuenta el propósito del proyecto y las acciones que planeas realizar.]\n",
    "\n",
    "[Ten en cuenta que estudiar, modificar y analizar datos es un proceso iterativo. Es normal volver a los pasos anteriores y corregirlos/ampliarlos para permitir nuevos pasos.]"
   ]
  },
  {
   "cell_type": "markdown",
   "id": "084ee0e8",
   "metadata": {},
   "source": [
    "Primero planeo leer los dataframes, revisar si tiene valores duplicados, ausentes, en su caso eliminarlos, ver cuantas filas, que tipo de datos con el método info, imprimir 5 filas aleatorias con sample(). Con ello, estoy limpiando los datos."
   ]
  },
  {
   "cell_type": "markdown",
   "id": "23737f53",
   "metadata": {},
   "source": [
    "## Inicialización"
   ]
  },
  {
   "cell_type": "code",
   "execution_count": 89,
   "id": "70685229",
   "metadata": {},
   "outputs": [],
   "source": [
    "import pandas as pd\n",
    "from matplotlib import pyplot as plt\n",
    "from scipy import stats as st\n",
    "from scipy.stats import ttest_ind\n",
    "from scipy.stats import levene\n",
    "import numpy as np\n",
    "import seaborn as sns"
   ]
  },
  {
   "cell_type": "markdown",
   "id": "d3fc6025",
   "metadata": {},
   "source": [
    "## Cargar datos"
   ]
  },
  {
   "cell_type": "code",
   "execution_count": 90,
   "id": "964d2056",
   "metadata": {},
   "outputs": [],
   "source": [
    "calls = pd.read_csv(r'E:\\análisis de datos\\datasets\\megaline_calls.csv')\n",
    "internet = pd.read_csv(r'E:\\análisis de datos\\datasets\\megaline_internet.csv')\n",
    "messages = pd.read_csv(r'E:\\análisis de datos\\datasets\\messages.csv')\n",
    "plans = pd.read_csv(r'E:\\análisis de datos\\datasets\\megaline_tariffs.csv')\n",
    "users = pd.read_csv(r'E:\\análisis de datos\\datasets\\megaline_users1.csv')"
   ]
  },
  {
   "cell_type": "markdown",
   "id": "5e106892",
   "metadata": {},
   "source": [
    "# Preparar los datos"
   ]
  },
  {
   "cell_type": "markdown",
   "id": "816e6b72",
   "metadata": {},
   "source": [
    "## Exploración General"
   ]
  },
  {
   "cell_type": "markdown",
   "id": "0868adba",
   "metadata": {},
   "source": [
    "[Los datos para este proyecto se dividen en varias tablas. Explora cada una para tener una comprensión inicial de los datos. Si es necesario, haz las correcciones requeridas en cada tabla.]\n"
   ]
  },
  {
   "cell_type": "markdown",
   "id": "02a3ed3a",
   "metadata": {},
   "source": [
    "### Información General"
   ]
  },
  {
   "cell_type": "code",
   "execution_count": 91,
   "id": "c30cd5f2",
   "metadata": {},
   "outputs": [
    {
     "name": "stdout",
     "output_type": "stream",
     "text": [
      "Información general del dataframe \u001b[4m\u001b[1mcalls\u001b[0m\u001b[0m\n",
      "<class 'pandas.core.frame.DataFrame'>\n",
      "RangeIndex: 137735 entries, 0 to 137734\n",
      "Data columns (total 4 columns):\n",
      " #   Column     Non-Null Count   Dtype  \n",
      "---  ------     --------------   -----  \n",
      " 0   id         137735 non-null  object \n",
      " 1   user_id    137735 non-null  int64  \n",
      " 2   call_date  137735 non-null  object \n",
      " 3   duration   137735 non-null  float64\n",
      "dtypes: float64(1), int64(1), object(2)\n",
      "memory usage: 4.2+ MB\n",
      "------------------------------------------------------------\n",
      "Información general del dataframe \u001b[4m\u001b[1minternet\u001b[0m\u001b[0m\n",
      "<class 'pandas.core.frame.DataFrame'>\n",
      "RangeIndex: 104825 entries, 0 to 104824\n",
      "Data columns (total 4 columns):\n",
      " #   Column        Non-Null Count   Dtype  \n",
      "---  ------        --------------   -----  \n",
      " 0   id            104825 non-null  object \n",
      " 1   user_id       104825 non-null  int64  \n",
      " 2   session_date  104825 non-null  object \n",
      " 3   mb_used       104825 non-null  float64\n",
      "dtypes: float64(1), int64(1), object(2)\n",
      "memory usage: 3.2+ MB\n",
      "------------------------------------------------------------\n",
      "Información general del dataframe \u001b[4m\u001b[1mplans\u001b[0m\u001b[0m\n",
      "<class 'pandas.core.frame.DataFrame'>\n",
      "RangeIndex: 2 entries, 0 to 1\n",
      "Data columns (total 8 columns):\n",
      " #   Column                 Non-Null Count  Dtype  \n",
      "---  ------                 --------------  -----  \n",
      " 0   messages_included      2 non-null      int64  \n",
      " 1   mb_per_month_included  2 non-null      int64  \n",
      " 2   minutes_included       2 non-null      int64  \n",
      " 3   usd_monthly_pay        2 non-null      int64  \n",
      " 4   usd_per_gb             2 non-null      int64  \n",
      " 5   usd_per_message        2 non-null      float64\n",
      " 6   usd_per_minute         2 non-null      float64\n",
      " 7   tariff_name            2 non-null      object \n",
      "dtypes: float64(2), int64(5), object(1)\n",
      "memory usage: 260.0+ bytes\n",
      "------------------------------------------------------------\n",
      "Información general del dataframe \u001b[4m\u001b[1mmessages\u001b[0m\u001b[0m\n",
      "<class 'pandas.core.frame.DataFrame'>\n",
      "RangeIndex: 123036 entries, 0 to 123035\n",
      "Data columns (total 3 columns):\n",
      " #   Column        Non-Null Count   Dtype \n",
      "---  ------        --------------   ----- \n",
      " 0   id            123036 non-null  object\n",
      " 1   message_date  123036 non-null  object\n",
      " 2   user_id       123036 non-null  int64 \n",
      "dtypes: int64(1), object(2)\n",
      "memory usage: 2.8+ MB\n",
      "------------------------------------------------------------\n",
      "Información general del dataframe \u001b[4m\u001b[1musers\u001b[0m\u001b[0m\n",
      "<class 'pandas.core.frame.DataFrame'>\n",
      "RangeIndex: 500 entries, 0 to 499\n",
      "Data columns (total 8 columns):\n",
      " #   Column      Non-Null Count  Dtype \n",
      "---  ------      --------------  ----- \n",
      " 0   user_id     500 non-null    int64 \n",
      " 1   first_name  500 non-null    object\n",
      " 2   last_name   500 non-null    object\n",
      " 3   age         500 non-null    int64 \n",
      " 4   city        500 non-null    object\n",
      " 5   reg_date    500 non-null    object\n",
      " 6   tariff      500 non-null    object\n",
      " 7   churn_date  34 non-null     object\n",
      "dtypes: int64(2), object(6)\n",
      "memory usage: 31.4+ KB\n",
      "------------------------------------------------------------\n"
     ]
    }
   ],
   "source": [
    "def quick_info(dataframe):\n",
    "    \"\"\"Esta función indaga la información con método info de cada dataframe.\"\"\"\n",
    "    for nombre, df in dataframe.items():\n",
    "        print(f'Información general del dataframe \\033[4m\\033[1m{nombre}\\033[0m\\033[0m')\n",
    "        df.info()\n",
    "        print('-'*60)\n",
    "\n",
    "dataframes = {\"calls\":calls,\"internet\":internet,\"plans\":plans,\"messages\":messages,\"users\":users}\n",
    "quick_info(dataframes)"
   ]
  },
  {
   "cell_type": "markdown",
   "id": "25542f58",
   "metadata": {},
   "source": [
    "### Primeras filas"
   ]
  },
  {
   "cell_type": "code",
   "execution_count": 92,
   "id": "5d8b69b1",
   "metadata": {},
   "outputs": [
    {
     "name": "stdout",
     "output_type": "stream",
     "text": [
      "Impresión de las primeras 5 filas del dataframe \u001b[4m\u001b[1mcalls\u001b[0m\u001b[0m\n",
      "         id  user_id   call_date  duration\n",
      "0   1000_93     1000  2018-12-27      8.52\n",
      "1  1000_145     1000  2018-12-27     13.66\n",
      "2  1000_247     1000  2018-12-27     14.48\n",
      "3  1000_309     1000  2018-12-28      5.76\n",
      "4  1000_380     1000  2018-12-30      4.22\n",
      "------------------------------------------------------------\n",
      "Impresión de las primeras 5 filas del dataframe \u001b[4m\u001b[1minternet\u001b[0m\u001b[0m\n",
      "         id  user_id session_date  mb_used\n",
      "0   1000_13     1000   2018-12-29    89.86\n",
      "1  1000_204     1000   2018-12-31     0.00\n",
      "2  1000_379     1000   2018-12-28   660.40\n",
      "3  1000_413     1000   2018-12-26   270.99\n",
      "4  1000_442     1000   2018-12-27   880.22\n",
      "------------------------------------------------------------\n",
      "Impresión de las primeras 5 filas del dataframe \u001b[4m\u001b[1mplans\u001b[0m\u001b[0m\n",
      "   messages_included  mb_per_month_included  minutes_included  \\\n",
      "0                 50                  15360               500   \n",
      "1               1000                  30720              3000   \n",
      "\n",
      "   usd_monthly_pay  usd_per_gb  usd_per_message  usd_per_minute tariff_name  \n",
      "0               20          10             0.03            0.03        surf  \n",
      "1               70           7             0.01            0.01    ultimate  \n",
      "------------------------------------------------------------\n",
      "Impresión de las primeras 5 filas del dataframe \u001b[4m\u001b[1mmessages\u001b[0m\u001b[0m\n",
      "       id message_date  user_id\n",
      "0  1000_0   2018-06-27     1000\n",
      "1  1000_1   2018-10-08     1000\n",
      "2  1000_2   2018-08-04     1000\n",
      "3  1000_3   2018-06-16     1000\n",
      "4  1000_4   2018-12-05     1000\n",
      "------------------------------------------------------------\n",
      "Impresión de las primeras 5 filas del dataframe \u001b[4m\u001b[1musers\u001b[0m\u001b[0m\n",
      "   user_id first_name  last_name  age                                   city  \\\n",
      "0     1000   Anamaria      Bauer   45  Atlanta-Sandy Springs-Roswell, GA MSA   \n",
      "1     1001     Mickey  Wilkerson   28        Seattle-Tacoma-Bellevue, WA MSA   \n",
      "2     1002     Carlee    Hoffman   36   Las Vegas-Henderson-Paradise, NV MSA   \n",
      "3     1003   Reynaldo    Jenkins   52                          Tulsa, OK MSA   \n",
      "4     1004    Leonila   Thompson   40        Seattle-Tacoma-Bellevue, WA MSA   \n",
      "\n",
      "     reg_date    tariff churn_date  \n",
      "0  2018-12-24  ultimate        NaN  \n",
      "1  2018-08-13      surf        NaN  \n",
      "2  2018-10-21      surf        NaN  \n",
      "3  2018-01-28      surf        NaN  \n",
      "4  2018-05-23      surf        NaN  \n",
      "------------------------------------------------------------\n"
     ]
    }
   ],
   "source": [
    "def quick_sample(dataframe):\n",
    "    \"\"\"Esta función imprime las primeras 5 filas de cada dataframe con el uso de método head.\"\"\"\n",
    "    for nombre, df in dataframe.items():\n",
    "        print(f'Impresión de las primeras 5 filas del dataframe \\033[4m\\033[1m{nombre}\\033[0m\\033[0m')\n",
    "        print(df.head())\n",
    "        print('-'*60)\n",
    "\n",
    "quick_sample(dataframes)    "
   ]
  },
  {
   "cell_type": "markdown",
   "id": "b89b87a5",
   "metadata": {},
   "source": [
    "### Ausentes"
   ]
  },
  {
   "cell_type": "code",
   "execution_count": 93,
   "id": "1ee79205",
   "metadata": {},
   "outputs": [
    {
     "name": "stdout",
     "output_type": "stream",
     "text": [
      "Suma de valores ausentes del dataframe \u001b[4m\u001b[1mcalls\u001b[0m\u001b[0m\n",
      "id           0\n",
      "user_id      0\n",
      "call_date    0\n",
      "duration     0\n",
      "dtype: int64\n",
      "------------------------------------------------------------\n",
      "Suma de valores ausentes del dataframe \u001b[4m\u001b[1minternet\u001b[0m\u001b[0m\n",
      "id              0\n",
      "user_id         0\n",
      "session_date    0\n",
      "mb_used         0\n",
      "dtype: int64\n",
      "------------------------------------------------------------\n",
      "Suma de valores ausentes del dataframe \u001b[4m\u001b[1mplans\u001b[0m\u001b[0m\n",
      "messages_included        0\n",
      "mb_per_month_included    0\n",
      "minutes_included         0\n",
      "usd_monthly_pay          0\n",
      "usd_per_gb               0\n",
      "usd_per_message          0\n",
      "usd_per_minute           0\n",
      "tariff_name              0\n",
      "dtype: int64\n",
      "------------------------------------------------------------\n",
      "Suma de valores ausentes del dataframe \u001b[4m\u001b[1mmessages\u001b[0m\u001b[0m\n",
      "id              0\n",
      "message_date    0\n",
      "user_id         0\n",
      "dtype: int64\n",
      "------------------------------------------------------------\n",
      "Suma de valores ausentes del dataframe \u001b[4m\u001b[1musers\u001b[0m\u001b[0m\n",
      "user_id         0\n",
      "first_name      0\n",
      "last_name       0\n",
      "age             0\n",
      "city            0\n",
      "reg_date        0\n",
      "tariff          0\n",
      "churn_date    466\n",
      "dtype: int64\n",
      "------------------------------------------------------------\n"
     ]
    }
   ],
   "source": [
    "def ausentes(dataframe):\n",
    "    \"\"\"Esta función indaga los valores ausentes de cada dataframe\"\"\"\n",
    "    for nombre, df in dataframe.items():\n",
    "        print(f'Suma de valores ausentes del dataframe \\033[4m\\033[1m{nombre}\\033[0m\\033[0m')\n",
    "        print(df.isna().sum())\n",
    "        print('-'*60)\n",
    "\n",
    "ausentes(dataframes)        "
   ]
  },
  {
   "cell_type": "markdown",
   "id": "2e796469",
   "metadata": {},
   "source": [
    "**Comentario del análisis**\n",
    "\n",
    "El único dataframe que presenta valores ausentes es users. Esto en la columna churn_date.\n",
    "\n",
    "Esta columna es la que contiene la fecha de abandono de los usuarios, los valores encontrados como ausentes representan el uso del plan cuando se capturó los datos, por lo que no hay fecha de abandono."
   ]
  },
  {
   "cell_type": "markdown",
   "id": "2e9cd9d2",
   "metadata": {},
   "source": [
    "### Duplicados"
   ]
  },
  {
   "cell_type": "code",
   "execution_count": 94,
   "id": "da9134b1",
   "metadata": {},
   "outputs": [
    {
     "name": "stdout",
     "output_type": "stream",
     "text": [
      "El dataframe \u001b[4m\u001b[1mcalls\u001b[0m\u001b[0m contiene 0 filas completamente duplicadas\n",
      "------------------------------------------------------------\n",
      "El dataframe \u001b[4m\u001b[1minternet\u001b[0m\u001b[0m contiene 0 filas completamente duplicadas\n",
      "------------------------------------------------------------\n",
      "El dataframe \u001b[4m\u001b[1mplans\u001b[0m\u001b[0m contiene 0 filas completamente duplicadas\n",
      "------------------------------------------------------------\n",
      "El dataframe \u001b[4m\u001b[1mmessages\u001b[0m\u001b[0m contiene 0 filas completamente duplicadas\n",
      "------------------------------------------------------------\n",
      "El dataframe \u001b[4m\u001b[1musers\u001b[0m\u001b[0m contiene 0 filas completamente duplicadas\n",
      "------------------------------------------------------------\n"
     ]
    }
   ],
   "source": [
    "def duplicados(dataframe):\n",
    "    \"\"\"Esta función suma los valores duplicados explicitos\"\"\"\n",
    "    for nombre,df in dataframe.items():\n",
    "        print(f'El dataframe \\033[4m\\033[1m{nombre}\\033[0m\\033[0m contiene {df.duplicated().sum()} filas completamente duplicadas')\n",
    "        print('-'*60)\n",
    "\n",
    "duplicados(dataframes)"
   ]
  },
  {
   "cell_type": "markdown",
   "id": "3929e042",
   "metadata": {},
   "source": [
    "## plans"
   ]
  },
  {
   "cell_type": "markdown",
   "id": "5f9e3870",
   "metadata": {},
   "source": [
    "Las filas corresponden a los 2 planes, por lo que la fila con el índice 0 representa al plan \"surf\" y el plan con el índice 1 al \"ultimate\".  El df cuenta con 8 columnas donde cada columna corresponde con una característica del plan, tal como sus mensajes, megabytes, minutos incluidos, así como los costos al mes y por exceder.\n",
    "\n",
    "No veo datos duplicados, ausentes (eso es fácil hacerlo solo por inspección, por el total de datos) y no necesitan modificaciones, pues los tipos de datos también son congruentes, solo opté por cambiar el nombre de la columna tariff_name, para facilitar el uso de las columnas posteriormente\n",
    "\n",
    "\n",
    "[Describe lo que ves y observas en la información general y en la muestra de datos impresa para el precio de datos anterior. ¿Hay algún problema (tipos de datos no adecuados, datos ausentes, etc.) que pudieran necesitar investigación y cambios adicionales? ¿Cómo se puede arreglar?]"
   ]
  },
  {
   "cell_type": "markdown",
   "id": "f00b079f",
   "metadata": {},
   "source": [
    "### Enriquecer los datos\n",
    "\n",
    "Agrega factores adicionales a los datos si crees que pudieran ser útiles"
   ]
  },
  {
   "cell_type": "code",
   "execution_count": 95,
   "id": "ea483b78",
   "metadata": {},
   "outputs": [],
   "source": [
    "plans.rename(columns={'tariff_name':'tariff'},inplace=True)"
   ]
  },
  {
   "cell_type": "code",
   "execution_count": 96,
   "id": "b95136b7",
   "metadata": {},
   "outputs": [],
   "source": [
    "plans['gb_per_month_included'] = plans['mb_per_month_included']/1024"
   ]
  },
  {
   "cell_type": "code",
   "execution_count": 97,
   "id": "8d29f6ec",
   "metadata": {},
   "outputs": [
    {
     "data": {
      "text/html": [
       "<div>\n",
       "<style scoped>\n",
       "    .dataframe tbody tr th:only-of-type {\n",
       "        vertical-align: middle;\n",
       "    }\n",
       "\n",
       "    .dataframe tbody tr th {\n",
       "        vertical-align: top;\n",
       "    }\n",
       "\n",
       "    .dataframe thead th {\n",
       "        text-align: right;\n",
       "    }\n",
       "</style>\n",
       "<table border=\"1\" class=\"dataframe\">\n",
       "  <thead>\n",
       "    <tr style=\"text-align: right;\">\n",
       "      <th></th>\n",
       "      <th>messages_included</th>\n",
       "      <th>mb_per_month_included</th>\n",
       "      <th>minutes_included</th>\n",
       "      <th>usd_monthly_pay</th>\n",
       "      <th>usd_per_gb</th>\n",
       "      <th>usd_per_message</th>\n",
       "      <th>usd_per_minute</th>\n",
       "      <th>tariff</th>\n",
       "      <th>gb_per_month_included</th>\n",
       "    </tr>\n",
       "  </thead>\n",
       "  <tbody>\n",
       "    <tr>\n",
       "      <th>0</th>\n",
       "      <td>50</td>\n",
       "      <td>15360</td>\n",
       "      <td>500</td>\n",
       "      <td>20</td>\n",
       "      <td>10</td>\n",
       "      <td>0.03</td>\n",
       "      <td>0.03</td>\n",
       "      <td>surf</td>\n",
       "      <td>15.0</td>\n",
       "    </tr>\n",
       "    <tr>\n",
       "      <th>1</th>\n",
       "      <td>1000</td>\n",
       "      <td>30720</td>\n",
       "      <td>3000</td>\n",
       "      <td>70</td>\n",
       "      <td>7</td>\n",
       "      <td>0.01</td>\n",
       "      <td>0.01</td>\n",
       "      <td>ultimate</td>\n",
       "      <td>30.0</td>\n",
       "    </tr>\n",
       "  </tbody>\n",
       "</table>\n",
       "</div>"
      ],
      "text/plain": [
       "   messages_included  mb_per_month_included  minutes_included  \\\n",
       "0                 50                  15360               500   \n",
       "1               1000                  30720              3000   \n",
       "\n",
       "   usd_monthly_pay  usd_per_gb  usd_per_message  usd_per_minute    tariff  \\\n",
       "0               20          10             0.03            0.03      surf   \n",
       "1               70           7             0.01            0.01  ultimate   \n",
       "\n",
       "   gb_per_month_included  \n",
       "0                   15.0  \n",
       "1                   30.0  "
      ]
     },
     "execution_count": 97,
     "metadata": {},
     "output_type": "execute_result"
    }
   ],
   "source": [
    "plans.head(2)"
   ]
  },
  {
   "cell_type": "markdown",
   "id": "7e6acd3f",
   "metadata": {},
   "source": [
    "## users"
   ]
  },
  {
   "cell_type": "markdown",
   "id": "70b78b42",
   "metadata": {},
   "source": [
    "[Describe lo que ves y observas en la información general y en la muestra de datos impresa para el precio de datos anterior. ¿Hay algún problema (tipos de datos no adecuados, datos ausentes, etc.) que pudieran necesitar investigación y cambios adicionales? ¿Cómo se puede arreglar?]\n",
    "\n",
    "Encontramos la columna churn_date con valores ausentes.\n",
    "Además se necesita cambiar el tipo de dato str de la columna reg_date a datetime"
   ]
  },
  {
   "cell_type": "markdown",
   "id": "ff0052b4",
   "metadata": {},
   "source": [
    "### Enriquecer los datos"
   ]
  },
  {
   "cell_type": "code",
   "execution_count": 98,
   "id": "192c2eca",
   "metadata": {},
   "outputs": [
    {
     "name": "stdout",
     "output_type": "stream",
     "text": [
      "Total de valores ausentes antes de su relleno 466\n",
      "--------------------\n",
      "Total de valores ausentes después de su relleno 0\n"
     ]
    }
   ],
   "source": [
    "print(f'Total de valores ausentes antes de su relleno {users['churn_date'].isna().sum()}')\n",
    "print('-'*20)\n",
    "users.fillna({'churn_date':'in_use'},inplace=True)\n",
    "print(f'Total de valores ausentes después de su relleno {users['churn_date'].isna().sum()}')"
   ]
  },
  {
   "cell_type": "code",
   "execution_count": 99,
   "id": "6d8c119f",
   "metadata": {},
   "outputs": [],
   "source": [
    "users['reg_date'] = pd.to_datetime(users['reg_date'],format='%Y-%m-%d')"
   ]
  },
  {
   "cell_type": "code",
   "execution_count": 100,
   "id": "48702858",
   "metadata": {},
   "outputs": [
    {
     "name": "stdout",
     "output_type": "stream",
     "text": [
      "<class 'pandas.core.frame.DataFrame'>\n",
      "RangeIndex: 500 entries, 0 to 499\n",
      "Data columns (total 8 columns):\n",
      " #   Column      Non-Null Count  Dtype         \n",
      "---  ------      --------------  -----         \n",
      " 0   user_id     500 non-null    int64         \n",
      " 1   first_name  500 non-null    object        \n",
      " 2   last_name   500 non-null    object        \n",
      " 3   age         500 non-null    int64         \n",
      " 4   city        500 non-null    object        \n",
      " 5   reg_date    500 non-null    datetime64[ns]\n",
      " 6   tariff      500 non-null    object        \n",
      " 7   churn_date  500 non-null    object        \n",
      "dtypes: datetime64[ns](1), int64(2), object(5)\n",
      "memory usage: 31.4+ KB\n"
     ]
    }
   ],
   "source": [
    "users.info()"
   ]
  },
  {
   "cell_type": "markdown",
   "id": "eb55dbd1",
   "metadata": {},
   "source": [
    "## calls"
   ]
  },
  {
   "cell_type": "markdown",
   "id": "1753120e",
   "metadata": {},
   "source": [
    "[Describe lo que ves y observas en la información general y en la muestra de datos impresa para el precio de datos anterior. ¿Hay algún problema (tipos de datos no adecuados, datos ausentes, etc.) que pudieran necesitar investigación y cambios adicionales? ¿Cómo se puede arreglar?]\n",
    "\n",
    "Para este dataset, identifico un tipo de dato inadecuado para la columna call_date, por lo que se procede a corregir el tipo de dato a datetime.\n",
    "Además, identifico que la duración de las llamadas están en decimales, por lo que se acercan al valor superior próximo.\n",
    "\n",
    "Es conveniente agregar una columna que indique el mes."
   ]
  },
  {
   "cell_type": "markdown",
   "id": "336ecbe8",
   "metadata": {},
   "source": [
    "### Enriquecer los datos"
   ]
  },
  {
   "cell_type": "code",
   "execution_count": 101,
   "id": "219389c0",
   "metadata": {},
   "outputs": [
    {
     "data": {
      "text/html": [
       "<div>\n",
       "<style scoped>\n",
       "    .dataframe tbody tr th:only-of-type {\n",
       "        vertical-align: middle;\n",
       "    }\n",
       "\n",
       "    .dataframe tbody tr th {\n",
       "        vertical-align: top;\n",
       "    }\n",
       "\n",
       "    .dataframe thead th {\n",
       "        text-align: right;\n",
       "    }\n",
       "</style>\n",
       "<table border=\"1\" class=\"dataframe\">\n",
       "  <thead>\n",
       "    <tr style=\"text-align: right;\">\n",
       "      <th></th>\n",
       "      <th>id</th>\n",
       "      <th>user_id</th>\n",
       "      <th>call_date</th>\n",
       "      <th>duration</th>\n",
       "    </tr>\n",
       "  </thead>\n",
       "  <tbody>\n",
       "    <tr>\n",
       "      <th>0</th>\n",
       "      <td>1000_93</td>\n",
       "      <td>1000</td>\n",
       "      <td>2018-12-27</td>\n",
       "      <td>8.52</td>\n",
       "    </tr>\n",
       "  </tbody>\n",
       "</table>\n",
       "</div>"
      ],
      "text/plain": [
       "        id  user_id   call_date  duration\n",
       "0  1000_93     1000  2018-12-27      8.52"
      ]
     },
     "execution_count": 101,
     "metadata": {},
     "output_type": "execute_result"
    }
   ],
   "source": [
    "calls.head(1)"
   ]
  },
  {
   "cell_type": "code",
   "execution_count": 102,
   "id": "8d14e721",
   "metadata": {},
   "outputs": [],
   "source": [
    "calls['call_date'] = pd.to_datetime(calls['call_date'], format='%Y-%m-%d')"
   ]
  },
  {
   "cell_type": "code",
   "execution_count": 103,
   "id": "9885baa4",
   "metadata": {},
   "outputs": [],
   "source": [
    "calls['month'] = calls['call_date'].dt.month"
   ]
  },
  {
   "cell_type": "code",
   "execution_count": 104,
   "id": "a421c2fd",
   "metadata": {},
   "outputs": [],
   "source": [
    "calls['duration'] = np.ceil(calls['duration'])\n",
    "calls['duration'] = calls['duration'].astype(int)"
   ]
  },
  {
   "cell_type": "code",
   "execution_count": 105,
   "id": "dc22f7c3",
   "metadata": {},
   "outputs": [
    {
     "data": {
      "text/html": [
       "<div>\n",
       "<style scoped>\n",
       "    .dataframe tbody tr th:only-of-type {\n",
       "        vertical-align: middle;\n",
       "    }\n",
       "\n",
       "    .dataframe tbody tr th {\n",
       "        vertical-align: top;\n",
       "    }\n",
       "\n",
       "    .dataframe thead th {\n",
       "        text-align: right;\n",
       "    }\n",
       "</style>\n",
       "<table border=\"1\" class=\"dataframe\">\n",
       "  <thead>\n",
       "    <tr style=\"text-align: right;\">\n",
       "      <th></th>\n",
       "      <th>id</th>\n",
       "      <th>user_id</th>\n",
       "      <th>call_date</th>\n",
       "      <th>duration</th>\n",
       "      <th>month</th>\n",
       "    </tr>\n",
       "  </thead>\n",
       "  <tbody>\n",
       "    <tr>\n",
       "      <th>0</th>\n",
       "      <td>1000_93</td>\n",
       "      <td>1000</td>\n",
       "      <td>2018-12-27</td>\n",
       "      <td>9</td>\n",
       "      <td>12</td>\n",
       "    </tr>\n",
       "  </tbody>\n",
       "</table>\n",
       "</div>"
      ],
      "text/plain": [
       "        id  user_id  call_date  duration  month\n",
       "0  1000_93     1000 2018-12-27         9     12"
      ]
     },
     "execution_count": 105,
     "metadata": {},
     "output_type": "execute_result"
    }
   ],
   "source": [
    "calls.head(1)"
   ]
  },
  {
   "cell_type": "code",
   "execution_count": 106,
   "id": "50b395bf",
   "metadata": {},
   "outputs": [
    {
     "name": "stdout",
     "output_type": "stream",
     "text": [
      "<class 'pandas.core.frame.DataFrame'>\n",
      "RangeIndex: 137735 entries, 0 to 137734\n",
      "Data columns (total 5 columns):\n",
      " #   Column     Non-Null Count   Dtype         \n",
      "---  ------     --------------   -----         \n",
      " 0   id         137735 non-null  object        \n",
      " 1   user_id    137735 non-null  int64         \n",
      " 2   call_date  137735 non-null  datetime64[ns]\n",
      " 3   duration   137735 non-null  int64         \n",
      " 4   month      137735 non-null  int32         \n",
      "dtypes: datetime64[ns](1), int32(1), int64(2), object(1)\n",
      "memory usage: 4.7+ MB\n"
     ]
    }
   ],
   "source": [
    "calls.info()"
   ]
  },
  {
   "cell_type": "markdown",
   "id": "993f5b96",
   "metadata": {},
   "source": [
    "## messages"
   ]
  },
  {
   "cell_type": "markdown",
   "id": "b74517ea",
   "metadata": {},
   "source": [
    "[Describe lo que ves y observas en la información general y en la muestra de datos impresa para el precio de datos anterior. ¿Hay algún problema (tipos de datos no adecuados, datos ausentes, etc.) que pudieran necesitar investigación y cambios adicionales? ¿Cómo se puede arreglar?]\n",
    "\n",
    "Caso similar al df de llamadas, la columna de message_date parece ser una fecha, por lo que conviene convertir esta columna de object a datetime con el método to_datetime y format. Además de crear una columna que indique el mes."
   ]
  },
  {
   "cell_type": "markdown",
   "id": "3ca13996",
   "metadata": {},
   "source": [
    "### Enriquecer los datos"
   ]
  },
  {
   "cell_type": "code",
   "execution_count": 107,
   "id": "0bf3896a",
   "metadata": {},
   "outputs": [
    {
     "data": {
      "text/html": [
       "<div>\n",
       "<style scoped>\n",
       "    .dataframe tbody tr th:only-of-type {\n",
       "        vertical-align: middle;\n",
       "    }\n",
       "\n",
       "    .dataframe tbody tr th {\n",
       "        vertical-align: top;\n",
       "    }\n",
       "\n",
       "    .dataframe thead th {\n",
       "        text-align: right;\n",
       "    }\n",
       "</style>\n",
       "<table border=\"1\" class=\"dataframe\">\n",
       "  <thead>\n",
       "    <tr style=\"text-align: right;\">\n",
       "      <th></th>\n",
       "      <th>id</th>\n",
       "      <th>message_date</th>\n",
       "      <th>user_id</th>\n",
       "    </tr>\n",
       "  </thead>\n",
       "  <tbody>\n",
       "    <tr>\n",
       "      <th>0</th>\n",
       "      <td>1000_0</td>\n",
       "      <td>2018-06-27</td>\n",
       "      <td>1000</td>\n",
       "    </tr>\n",
       "  </tbody>\n",
       "</table>\n",
       "</div>"
      ],
      "text/plain": [
       "       id message_date  user_id\n",
       "0  1000_0   2018-06-27     1000"
      ]
     },
     "execution_count": 107,
     "metadata": {},
     "output_type": "execute_result"
    }
   ],
   "source": [
    "messages.head(1)"
   ]
  },
  {
   "cell_type": "code",
   "execution_count": 108,
   "id": "e63b8e77",
   "metadata": {},
   "outputs": [],
   "source": [
    "messages['message_date'] = pd.to_datetime(messages['message_date'], format='%Y-%m-%d')"
   ]
  },
  {
   "cell_type": "code",
   "execution_count": 109,
   "id": "7721cd91",
   "metadata": {},
   "outputs": [],
   "source": [
    "messages['month'] = messages['message_date'].dt.month"
   ]
  },
  {
   "cell_type": "markdown",
   "id": "72a85599",
   "metadata": {},
   "source": [
    "## internet"
   ]
  },
  {
   "cell_type": "markdown",
   "id": "dcb529cd",
   "metadata": {},
   "source": [
    "[Describe lo que ves y observas en la información general y en la muestra de datos impresa para el precio de datos anterior. ¿Hay algún problema (tipos de datos no adecuados, datos ausentes, etc.) que pudieran necesitar investigación y cambios adicionales? ¿Cómo se puede arreglar?]\n",
    "\n",
    "Observo datos duplicados pero observo que son las llamadas que hace el mismo usuario, por lo que esta repetición de user_id no representa un problema. Observo que la fecha es tipo de dato str, por lo que la corrección corresponde a modificar a tipo datetime.\n",
    "\n",
    "Conviene tener los mb en gb, por lo que se procede a crear una nueva columna con esta conversión de dato."
   ]
  },
  {
   "cell_type": "markdown",
   "id": "838a1ff8",
   "metadata": {},
   "source": [
    "### Enriquecer los datos"
   ]
  },
  {
   "cell_type": "code",
   "execution_count": 110,
   "id": "49fcf47e",
   "metadata": {},
   "outputs": [
    {
     "data": {
      "text/html": [
       "<div>\n",
       "<style scoped>\n",
       "    .dataframe tbody tr th:only-of-type {\n",
       "        vertical-align: middle;\n",
       "    }\n",
       "\n",
       "    .dataframe tbody tr th {\n",
       "        vertical-align: top;\n",
       "    }\n",
       "\n",
       "    .dataframe thead th {\n",
       "        text-align: right;\n",
       "    }\n",
       "</style>\n",
       "<table border=\"1\" class=\"dataframe\">\n",
       "  <thead>\n",
       "    <tr style=\"text-align: right;\">\n",
       "      <th></th>\n",
       "      <th>id</th>\n",
       "      <th>user_id</th>\n",
       "      <th>session_date</th>\n",
       "      <th>mb_used</th>\n",
       "    </tr>\n",
       "  </thead>\n",
       "  <tbody>\n",
       "    <tr>\n",
       "      <th>0</th>\n",
       "      <td>1000_13</td>\n",
       "      <td>1000</td>\n",
       "      <td>2018-12-29</td>\n",
       "      <td>89.86</td>\n",
       "    </tr>\n",
       "  </tbody>\n",
       "</table>\n",
       "</div>"
      ],
      "text/plain": [
       "        id  user_id session_date  mb_used\n",
       "0  1000_13     1000   2018-12-29    89.86"
      ]
     },
     "execution_count": 110,
     "metadata": {},
     "output_type": "execute_result"
    }
   ],
   "source": [
    "internet.head(1)"
   ]
  },
  {
   "cell_type": "code",
   "execution_count": 111,
   "id": "638f05b0",
   "metadata": {},
   "outputs": [],
   "source": [
    "internet['session_date'] = pd.to_datetime(internet['session_date'], format='%Y-%m-%d')"
   ]
  },
  {
   "cell_type": "code",
   "execution_count": 112,
   "id": "b21ad32e",
   "metadata": {},
   "outputs": [],
   "source": [
    "internet['month'] = internet['session_date'].dt.month"
   ]
  },
  {
   "cell_type": "code",
   "execution_count": 113,
   "id": "1e2fa45d",
   "metadata": {},
   "outputs": [],
   "source": [
    "internet['gb_used'] = internet['mb_used']/1024"
   ]
  },
  {
   "cell_type": "code",
   "execution_count": 114,
   "id": "63622ba4",
   "metadata": {},
   "outputs": [
    {
     "data": {
      "text/html": [
       "<div>\n",
       "<style scoped>\n",
       "    .dataframe tbody tr th:only-of-type {\n",
       "        vertical-align: middle;\n",
       "    }\n",
       "\n",
       "    .dataframe tbody tr th {\n",
       "        vertical-align: top;\n",
       "    }\n",
       "\n",
       "    .dataframe thead th {\n",
       "        text-align: right;\n",
       "    }\n",
       "</style>\n",
       "<table border=\"1\" class=\"dataframe\">\n",
       "  <thead>\n",
       "    <tr style=\"text-align: right;\">\n",
       "      <th></th>\n",
       "      <th>id</th>\n",
       "      <th>user_id</th>\n",
       "      <th>session_date</th>\n",
       "      <th>mb_used</th>\n",
       "      <th>month</th>\n",
       "      <th>gb_used</th>\n",
       "    </tr>\n",
       "  </thead>\n",
       "  <tbody>\n",
       "    <tr>\n",
       "      <th>0</th>\n",
       "      <td>1000_13</td>\n",
       "      <td>1000</td>\n",
       "      <td>2018-12-29</td>\n",
       "      <td>89.86</td>\n",
       "      <td>12</td>\n",
       "      <td>0.087754</td>\n",
       "    </tr>\n",
       "  </tbody>\n",
       "</table>\n",
       "</div>"
      ],
      "text/plain": [
       "        id  user_id session_date  mb_used  month   gb_used\n",
       "0  1000_13     1000   2018-12-29    89.86     12  0.087754"
      ]
     },
     "execution_count": 114,
     "metadata": {},
     "output_type": "execute_result"
    }
   ],
   "source": [
    "internet.head(1)"
   ]
  },
  {
   "cell_type": "code",
   "execution_count": 115,
   "id": "bed7d2bc",
   "metadata": {},
   "outputs": [
    {
     "name": "stdout",
     "output_type": "stream",
     "text": [
      "<class 'pandas.core.frame.DataFrame'>\n",
      "RangeIndex: 104825 entries, 0 to 104824\n",
      "Data columns (total 6 columns):\n",
      " #   Column        Non-Null Count   Dtype         \n",
      "---  ------        --------------   -----         \n",
      " 0   id            104825 non-null  object        \n",
      " 1   user_id       104825 non-null  int64         \n",
      " 2   session_date  104825 non-null  datetime64[ns]\n",
      " 3   mb_used       104825 non-null  float64       \n",
      " 4   month         104825 non-null  int32         \n",
      " 5   gb_used       104825 non-null  float64       \n",
      "dtypes: datetime64[ns](1), float64(2), int32(1), int64(1), object(1)\n",
      "memory usage: 4.4+ MB\n"
     ]
    }
   ],
   "source": [
    "internet.info()"
   ]
  },
  {
   "cell_type": "markdown",
   "id": "9c4baac9",
   "metadata": {},
   "source": [
    "## Estudiar las condiciones de las tarifas"
   ]
  },
  {
   "cell_type": "markdown",
   "id": "0ecc97d8",
   "metadata": {},
   "source": [
    "[Es sumamente importante entender cómo funcionan las tarifas, cómo se les cobra a los usuarios en función de su plan de suscripción. Así que te sugerimos imprimir la información de la tarifa para ver una vez más sus condiciones.]"
   ]
  },
  {
   "cell_type": "code",
   "execution_count": 116,
   "id": "a820ade5",
   "metadata": {},
   "outputs": [
    {
     "data": {
      "text/html": [
       "<div>\n",
       "<style scoped>\n",
       "    .dataframe tbody tr th:only-of-type {\n",
       "        vertical-align: middle;\n",
       "    }\n",
       "\n",
       "    .dataframe tbody tr th {\n",
       "        vertical-align: top;\n",
       "    }\n",
       "\n",
       "    .dataframe thead th {\n",
       "        text-align: right;\n",
       "    }\n",
       "</style>\n",
       "<table border=\"1\" class=\"dataframe\">\n",
       "  <thead>\n",
       "    <tr style=\"text-align: right;\">\n",
       "      <th></th>\n",
       "      <th>messages_included</th>\n",
       "      <th>mb_per_month_included</th>\n",
       "      <th>minutes_included</th>\n",
       "      <th>usd_monthly_pay</th>\n",
       "      <th>usd_per_gb</th>\n",
       "      <th>usd_per_message</th>\n",
       "      <th>usd_per_minute</th>\n",
       "      <th>tariff</th>\n",
       "      <th>gb_per_month_included</th>\n",
       "    </tr>\n",
       "  </thead>\n",
       "  <tbody>\n",
       "    <tr>\n",
       "      <th>0</th>\n",
       "      <td>50</td>\n",
       "      <td>15360</td>\n",
       "      <td>500</td>\n",
       "      <td>20</td>\n",
       "      <td>10</td>\n",
       "      <td>0.03</td>\n",
       "      <td>0.03</td>\n",
       "      <td>surf</td>\n",
       "      <td>15.0</td>\n",
       "    </tr>\n",
       "    <tr>\n",
       "      <th>1</th>\n",
       "      <td>1000</td>\n",
       "      <td>30720</td>\n",
       "      <td>3000</td>\n",
       "      <td>70</td>\n",
       "      <td>7</td>\n",
       "      <td>0.01</td>\n",
       "      <td>0.01</td>\n",
       "      <td>ultimate</td>\n",
       "      <td>30.0</td>\n",
       "    </tr>\n",
       "  </tbody>\n",
       "</table>\n",
       "</div>"
      ],
      "text/plain": [
       "   messages_included  mb_per_month_included  minutes_included  \\\n",
       "0                 50                  15360               500   \n",
       "1               1000                  30720              3000   \n",
       "\n",
       "   usd_monthly_pay  usd_per_gb  usd_per_message  usd_per_minute    tariff  \\\n",
       "0               20          10             0.03            0.03      surf   \n",
       "1               70           7             0.01            0.01  ultimate   \n",
       "\n",
       "   gb_per_month_included  \n",
       "0                   15.0  \n",
       "1                   30.0  "
      ]
     },
     "execution_count": 116,
     "metadata": {},
     "output_type": "execute_result"
    }
   ],
   "source": [
    "# Imprime las condiciones de la tarifa y asegúrate de que te quedan claras\n",
    "plans.head()"
   ]
  },
  {
   "cell_type": "markdown",
   "id": "c016b37d",
   "metadata": {},
   "source": [
    "# Agregar datos por usuario\n",
    "\n",
    "[Ahora que los datos están limpios, agrega los datos por usuario y por periodo para que solo haya un registro por usuario y por periodo. Esto facilitará mucho el análisis posterior.]"
   ]
  },
  {
   "cell_type": "code",
   "execution_count": 117,
   "id": "967eff34",
   "metadata": {},
   "outputs": [
    {
     "data": {
      "text/html": [
       "<div>\n",
       "<style scoped>\n",
       "    .dataframe tbody tr th:only-of-type {\n",
       "        vertical-align: middle;\n",
       "    }\n",
       "\n",
       "    .dataframe tbody tr th {\n",
       "        vertical-align: top;\n",
       "    }\n",
       "\n",
       "    .dataframe thead th {\n",
       "        text-align: right;\n",
       "    }\n",
       "</style>\n",
       "<table border=\"1\" class=\"dataframe\">\n",
       "  <thead>\n",
       "    <tr style=\"text-align: right;\">\n",
       "      <th></th>\n",
       "      <th>user_id</th>\n",
       "      <th>month</th>\n",
       "      <th>total_duration</th>\n",
       "      <th>total_calls</th>\n",
       "    </tr>\n",
       "  </thead>\n",
       "  <tbody>\n",
       "    <tr>\n",
       "      <th>0</th>\n",
       "      <td>1000</td>\n",
       "      <td>12</td>\n",
       "      <td>124</td>\n",
       "      <td>16</td>\n",
       "    </tr>\n",
       "    <tr>\n",
       "      <th>1</th>\n",
       "      <td>1001</td>\n",
       "      <td>8</td>\n",
       "      <td>182</td>\n",
       "      <td>27</td>\n",
       "    </tr>\n",
       "    <tr>\n",
       "      <th>2</th>\n",
       "      <td>1001</td>\n",
       "      <td>9</td>\n",
       "      <td>315</td>\n",
       "      <td>49</td>\n",
       "    </tr>\n",
       "    <tr>\n",
       "      <th>3</th>\n",
       "      <td>1001</td>\n",
       "      <td>10</td>\n",
       "      <td>393</td>\n",
       "      <td>65</td>\n",
       "    </tr>\n",
       "    <tr>\n",
       "      <th>4</th>\n",
       "      <td>1001</td>\n",
       "      <td>11</td>\n",
       "      <td>426</td>\n",
       "      <td>64</td>\n",
       "    </tr>\n",
       "  </tbody>\n",
       "</table>\n",
       "</div>"
      ],
      "text/plain": [
       "   user_id  month  total_duration  total_calls\n",
       "0     1000     12             124           16\n",
       "1     1001      8             182           27\n",
       "2     1001      9             315           49\n",
       "3     1001     10             393           65\n",
       "4     1001     11             426           64"
      ]
     },
     "execution_count": 117,
     "metadata": {},
     "output_type": "execute_result"
    }
   ],
   "source": [
    "monthly_calls = calls.groupby(['user_id','month']).agg(\n",
    "    total_duration = ('duration','sum'),\n",
    "    total_calls = ('id','count')\n",
    ").reset_index()\n",
    "monthly_calls.head()"
   ]
  },
  {
   "cell_type": "code",
   "execution_count": 118,
   "id": "a9d32971",
   "metadata": {},
   "outputs": [
    {
     "data": {
      "text/html": [
       "<div>\n",
       "<style scoped>\n",
       "    .dataframe tbody tr th:only-of-type {\n",
       "        vertical-align: middle;\n",
       "    }\n",
       "\n",
       "    .dataframe tbody tr th {\n",
       "        vertical-align: top;\n",
       "    }\n",
       "\n",
       "    .dataframe thead th {\n",
       "        text-align: right;\n",
       "    }\n",
       "</style>\n",
       "<table border=\"1\" class=\"dataframe\">\n",
       "  <thead>\n",
       "    <tr style=\"text-align: right;\">\n",
       "      <th></th>\n",
       "      <th>user_id</th>\n",
       "      <th>month</th>\n",
       "      <th>total_messages</th>\n",
       "    </tr>\n",
       "  </thead>\n",
       "  <tbody>\n",
       "    <tr>\n",
       "      <th>0</th>\n",
       "      <td>1000</td>\n",
       "      <td>5</td>\n",
       "      <td>22</td>\n",
       "    </tr>\n",
       "  </tbody>\n",
       "</table>\n",
       "</div>"
      ],
      "text/plain": [
       "   user_id  month  total_messages\n",
       "0     1000      5              22"
      ]
     },
     "execution_count": 118,
     "metadata": {},
     "output_type": "execute_result"
    }
   ],
   "source": [
    "sms_per_user = messages.groupby(['user_id','month']).agg(\n",
    "    total_messages = ('id','count')\n",
    ").reset_index()\n",
    "sms_per_user.head(1)"
   ]
  },
  {
   "cell_type": "code",
   "execution_count": 119,
   "id": "52f6e585",
   "metadata": {},
   "outputs": [
    {
     "data": {
      "text/html": [
       "<div>\n",
       "<style scoped>\n",
       "    .dataframe tbody tr th:only-of-type {\n",
       "        vertical-align: middle;\n",
       "    }\n",
       "\n",
       "    .dataframe tbody tr th {\n",
       "        vertical-align: top;\n",
       "    }\n",
       "\n",
       "    .dataframe thead th {\n",
       "        text-align: right;\n",
       "    }\n",
       "</style>\n",
       "<table border=\"1\" class=\"dataframe\">\n",
       "  <thead>\n",
       "    <tr style=\"text-align: right;\">\n",
       "      <th></th>\n",
       "      <th>user_id</th>\n",
       "      <th>month</th>\n",
       "      <th>gb_used</th>\n",
       "    </tr>\n",
       "  </thead>\n",
       "  <tbody>\n",
       "    <tr>\n",
       "      <th>0</th>\n",
       "      <td>1000</td>\n",
       "      <td>12</td>\n",
       "      <td>2</td>\n",
       "    </tr>\n",
       "  </tbody>\n",
       "</table>\n",
       "</div>"
      ],
      "text/plain": [
       "   user_id  month  gb_used\n",
       "0     1000     12        2"
      ]
     },
     "execution_count": 119,
     "metadata": {},
     "output_type": "execute_result"
    }
   ],
   "source": [
    "internet_per_user = internet.groupby(['user_id','month'])['gb_used'].sum().reset_index()\n",
    "internet_per_user['gb_used'] = np.ceil(internet_per_user['gb_used'])\n",
    "internet_per_user['gb_used'] = internet_per_user['gb_used'].astype(int)\n",
    "internet_per_user.head(1)"
   ]
  },
  {
   "cell_type": "markdown",
   "id": "1ea5ab78",
   "metadata": {},
   "source": [
    "[Junta los datos agregados en un DataFrame para que haya un registro que represente lo que consumió un usuario único en un mes determinado.]"
   ]
  },
  {
   "cell_type": "code",
   "execution_count": 120,
   "id": "6c1a73e9",
   "metadata": {},
   "outputs": [
    {
     "data": {
      "text/html": [
       "<div>\n",
       "<style scoped>\n",
       "    .dataframe tbody tr th:only-of-type {\n",
       "        vertical-align: middle;\n",
       "    }\n",
       "\n",
       "    .dataframe tbody tr th {\n",
       "        vertical-align: top;\n",
       "    }\n",
       "\n",
       "    .dataframe thead th {\n",
       "        text-align: right;\n",
       "    }\n",
       "</style>\n",
       "<table border=\"1\" class=\"dataframe\">\n",
       "  <thead>\n",
       "    <tr style=\"text-align: right;\">\n",
       "      <th></th>\n",
       "      <th>user_id</th>\n",
       "      <th>month</th>\n",
       "      <th>total_duration</th>\n",
       "      <th>total_calls</th>\n",
       "      <th>total_messages</th>\n",
       "      <th>gb_used</th>\n",
       "    </tr>\n",
       "  </thead>\n",
       "  <tbody>\n",
       "    <tr>\n",
       "      <th>0</th>\n",
       "      <td>1000</td>\n",
       "      <td>5</td>\n",
       "      <td>NaN</td>\n",
       "      <td>NaN</td>\n",
       "      <td>22.0</td>\n",
       "      <td>NaN</td>\n",
       "    </tr>\n",
       "  </tbody>\n",
       "</table>\n",
       "</div>"
      ],
      "text/plain": [
       "   user_id  month  total_duration  total_calls  total_messages  gb_used\n",
       "0     1000      5             NaN          NaN            22.0      NaN"
      ]
     },
     "execution_count": 120,
     "metadata": {},
     "output_type": "execute_result"
    }
   ],
   "source": [
    "total_info = monthly_calls.merge(sms_per_user,how='outer',on=['user_id','month'])\n",
    "total_info = total_info.merge(internet_per_user,how='outer',on=['user_id','month'])\n",
    "total_info.head(1)"
   ]
  },
  {
   "cell_type": "code",
   "execution_count": 121,
   "id": "2ef52d75",
   "metadata": {},
   "outputs": [
    {
     "data": {
      "text/html": [
       "<div>\n",
       "<style scoped>\n",
       "    .dataframe tbody tr th:only-of-type {\n",
       "        vertical-align: middle;\n",
       "    }\n",
       "\n",
       "    .dataframe tbody tr th {\n",
       "        vertical-align: top;\n",
       "    }\n",
       "\n",
       "    .dataframe thead th {\n",
       "        text-align: right;\n",
       "    }\n",
       "</style>\n",
       "<table border=\"1\" class=\"dataframe\">\n",
       "  <thead>\n",
       "    <tr style=\"text-align: right;\">\n",
       "      <th></th>\n",
       "      <th>user_id</th>\n",
       "      <th>month</th>\n",
       "      <th>total_duration</th>\n",
       "      <th>total_calls</th>\n",
       "      <th>total_messages</th>\n",
       "      <th>gb_used</th>\n",
       "    </tr>\n",
       "  </thead>\n",
       "  <tbody>\n",
       "    <tr>\n",
       "      <th>0</th>\n",
       "      <td>1000</td>\n",
       "      <td>5</td>\n",
       "      <td>0.0</td>\n",
       "      <td>0.0</td>\n",
       "      <td>22.0</td>\n",
       "      <td>0.0</td>\n",
       "    </tr>\n",
       "  </tbody>\n",
       "</table>\n",
       "</div>"
      ],
      "text/plain": [
       "   user_id  month  total_duration  total_calls  total_messages  gb_used\n",
       "0     1000      5             0.0          0.0            22.0      0.0"
      ]
     },
     "execution_count": 121,
     "metadata": {},
     "output_type": "execute_result"
    }
   ],
   "source": [
    "total_info = total_info.fillna(0)\n",
    "total_info.head(1)"
   ]
  },
  {
   "cell_type": "code",
   "execution_count": 122,
   "id": "412d0531",
   "metadata": {},
   "outputs": [
    {
     "data": {
      "text/html": [
       "<div>\n",
       "<style scoped>\n",
       "    .dataframe tbody tr th:only-of-type {\n",
       "        vertical-align: middle;\n",
       "    }\n",
       "\n",
       "    .dataframe tbody tr th {\n",
       "        vertical-align: top;\n",
       "    }\n",
       "\n",
       "    .dataframe thead th {\n",
       "        text-align: right;\n",
       "    }\n",
       "</style>\n",
       "<table border=\"1\" class=\"dataframe\">\n",
       "  <thead>\n",
       "    <tr style=\"text-align: right;\">\n",
       "      <th></th>\n",
       "      <th>user_id</th>\n",
       "      <th>month</th>\n",
       "      <th>total_duration</th>\n",
       "      <th>total_calls</th>\n",
       "      <th>total_messages</th>\n",
       "      <th>gb_used</th>\n",
       "      <th>first_name</th>\n",
       "      <th>last_name</th>\n",
       "      <th>age</th>\n",
       "      <th>city</th>\n",
       "      <th>...</th>\n",
       "      <th>tariff</th>\n",
       "      <th>churn_date</th>\n",
       "      <th>messages_included</th>\n",
       "      <th>mb_per_month_included</th>\n",
       "      <th>minutes_included</th>\n",
       "      <th>usd_monthly_pay</th>\n",
       "      <th>usd_per_gb</th>\n",
       "      <th>usd_per_message</th>\n",
       "      <th>usd_per_minute</th>\n",
       "      <th>gb_per_month_included</th>\n",
       "    </tr>\n",
       "  </thead>\n",
       "  <tbody>\n",
       "    <tr>\n",
       "      <th>0</th>\n",
       "      <td>1000</td>\n",
       "      <td>5</td>\n",
       "      <td>0.0</td>\n",
       "      <td>0.0</td>\n",
       "      <td>22.0</td>\n",
       "      <td>0.0</td>\n",
       "      <td>Anamaria</td>\n",
       "      <td>Bauer</td>\n",
       "      <td>45</td>\n",
       "      <td>Atlanta-Sandy Springs-Roswell, GA MSA</td>\n",
       "      <td>...</td>\n",
       "      <td>ultimate</td>\n",
       "      <td>in_use</td>\n",
       "      <td>1000</td>\n",
       "      <td>30720</td>\n",
       "      <td>3000</td>\n",
       "      <td>70</td>\n",
       "      <td>7</td>\n",
       "      <td>0.01</td>\n",
       "      <td>0.01</td>\n",
       "      <td>30.0</td>\n",
       "    </tr>\n",
       "  </tbody>\n",
       "</table>\n",
       "<p>1 rows × 21 columns</p>\n",
       "</div>"
      ],
      "text/plain": [
       "   user_id  month  total_duration  total_calls  total_messages  gb_used  \\\n",
       "0     1000      5             0.0          0.0            22.0      0.0   \n",
       "\n",
       "  first_name last_name  age                                   city  ...  \\\n",
       "0   Anamaria     Bauer   45  Atlanta-Sandy Springs-Roswell, GA MSA  ...   \n",
       "\n",
       "     tariff churn_date messages_included  mb_per_month_included  \\\n",
       "0  ultimate     in_use              1000                  30720   \n",
       "\n",
       "   minutes_included  usd_monthly_pay  usd_per_gb  usd_per_message  \\\n",
       "0              3000               70           7             0.01   \n",
       "\n",
       "   usd_per_minute  gb_per_month_included  \n",
       "0            0.01                   30.0  \n",
       "\n",
       "[1 rows x 21 columns]"
      ]
     },
     "execution_count": 122,
     "metadata": {},
     "output_type": "execute_result"
    }
   ],
   "source": [
    "user_info = users.merge(plans, on='tariff')\n",
    "total_info = total_info.merge(user_info, on='user_id', how='left')\n",
    "total_info.head(1)"
   ]
  },
  {
   "cell_type": "markdown",
   "id": "4c774521",
   "metadata": {},
   "source": [
    "[Calcula los ingresos mensuales por usuario (resta el límite del paquete gratuito del número total de llamadas, mensajes de texto y datos; multiplica el resultado por el valor del plan de llamadas; añade la tarifa mensual en función del plan de llamadas). Nota: Dadas las condiciones del plan, ¡esto podría no ser tan trivial como un par de líneas! Así que no pasa nada si dedicas algo de tiempo a ello.]"
   ]
  },
  {
   "cell_type": "code",
   "execution_count": 123,
   "id": "558d9e70",
   "metadata": {},
   "outputs": [],
   "source": [
    "#Ingreso por minutos extras\n",
    "total_info['usd_extra_minutes'] = (total_info['total_duration']-total_info['minutes_included'])*total_info['usd_per_minute']\n",
    "total_info['usd_extra_minutes'] = total_info['usd_extra_minutes'].apply(lambda x: max(x,0))\n",
    "\n",
    "#Ingreso por mensajes extras\n",
    "total_info['usd_extra_messages'] = (total_info['total_messages']-total_info['messages_included'])*total_info['usd_per_message']\n",
    "total_info['usd_extra_messages'] = total_info['usd_extra_messages'].apply(lambda x: max(x,0))\n",
    "\n",
    "#Ingreso por gigabytes extras \n",
    "total_info['usd_extra_gb'] = (total_info['gb_used']-total_info['gb_per_month_included'])*total_info['usd_per_gb']\n",
    "total_info['usd_extra_gb'] = total_info['usd_extra_gb'].apply(lambda x: max(x,0))"
   ]
  },
  {
   "cell_type": "markdown",
   "id": "2d3d5c7e",
   "metadata": {},
   "source": [
    "La parte del código: .apply(lambda x: max(x,0)) es utilizada para devolver 0 en caso de que el cliente no haya usado más minutos de los incluidos, esto se debe a que el cliente tiene 3000 minutos, así que cantidades menores a eso darán un numero negativo, lo que representaría un pago inverso empresa-cliente, así que simplemente la función lambda devuelve 0 al obtener un valor negativo."
   ]
  },
  {
   "cell_type": "code",
   "execution_count": 124,
   "id": "5ae1c40c",
   "metadata": {},
   "outputs": [],
   "source": [
    "total_info['total_payment'] = total_info['usd_monthly_pay'] + total_info['usd_extra_minutes'] + total_info['usd_extra_messages'] + total_info['usd_extra_gb']"
   ]
  },
  {
   "cell_type": "markdown",
   "id": "348f5bcb",
   "metadata": {},
   "source": [
    "## Estudia el comportamiento de usuario"
   ]
  },
  {
   "cell_type": "markdown",
   "id": "8a09ed3a",
   "metadata": {},
   "source": [
    "[Calcula algunas estadísticas descriptivas para los datos agregados y fusionados que nos sean útiles y que muestren un panorama general captado por los datos. Dibuja gráficos útiles para facilitar la comprensión. Dado que la tarea principal es comparar las tarifas y decidir cuál es más rentable, las estadísticas y gráficas deben calcularse por tarifa.]\n",
    "\n",
    "[En los comentarios hallarás pistas relevantes para las llamadas, pero no las hay para los mensajes e Internet. Sin embargo, el principio del estudio estadístico que se aplica para ellos es el mismo que para las llamadas.]"
   ]
  },
  {
   "cell_type": "markdown",
   "id": "dfcf8756",
   "metadata": {},
   "source": [
    "### Llamadas"
   ]
  },
  {
   "cell_type": "code",
   "execution_count": 194,
   "id": "410b4ef7",
   "metadata": {},
   "outputs": [
    {
     "data": {
      "text/html": [
       "<div>\n",
       "<style scoped>\n",
       "    .dataframe tbody tr th:only-of-type {\n",
       "        vertical-align: middle;\n",
       "    }\n",
       "\n",
       "    .dataframe tbody tr th {\n",
       "        vertical-align: top;\n",
       "    }\n",
       "\n",
       "    .dataframe thead th {\n",
       "        text-align: right;\n",
       "    }\n",
       "</style>\n",
       "<table border=\"1\" class=\"dataframe\">\n",
       "  <thead>\n",
       "    <tr style=\"text-align: right;\">\n",
       "      <th></th>\n",
       "      <th>month</th>\n",
       "      <th>surf</th>\n",
       "      <th>ultimate</th>\n",
       "    </tr>\n",
       "  </thead>\n",
       "  <tbody>\n",
       "    <tr>\n",
       "      <th>0</th>\n",
       "      <td>1</td>\n",
       "      <td>14.5</td>\n",
       "      <td>48.375</td>\n",
       "    </tr>\n",
       "  </tbody>\n",
       "</table>\n",
       "</div>"
      ],
      "text/plain": [
       "   month  surf  ultimate\n",
       "0      1  14.5    48.375"
      ]
     },
     "execution_count": 194,
     "metadata": {},
     "output_type": "execute_result"
    }
   ],
   "source": [
    "# Compara la duración promedio de llamadas por cada plan y por cada mes. Traza un gráfico de barras para visualizarla.\n",
    "mean_surf_calls_duration = total_info[total_info['tariff']=='surf'].groupby('month')['total_duration'].mean().reset_index()\n",
    "mean_ultimate_calls_duration = total_info[total_info['tariff']=='ultimate'].groupby('month')['total_duration'].mean().reset_index()\n",
    "\n",
    "#Nuevo dataframe con las comparaciones de la agrupación\n",
    "mean_calls_duration = mean_surf_calls_duration.merge(mean_ultimate_calls_duration, on='month')\n",
    "mean_calls_duration.columns = ['month', 'surf', 'ultimate']\n",
    "\n",
    "mean_calls_duration.head(1)"
   ]
  },
  {
   "cell_type": "code",
   "execution_count": 126,
   "id": "a964cda0",
   "metadata": {},
   "outputs": [
    {
     "data": {
      "image/png": "[encoded data removed]",
      "text/plain": [
       "<Figure size 640x480 with 1 Axes>"
      ]
     },
     "metadata": {},
     "output_type": "display_data"
    }
   ],
   "source": [
    "#Graficación\n",
    "mean_calls_duration.plot(kind='bar', x='month')\n",
    "plt.title('Promedio de llamadas al mes por tipo de paquete')\n",
    "plt.xlabel('Mes')\n",
    "plt.ylabel('Número promedio de llamadas')\n",
    "plt.show()"
   ]
  },
  {
   "cell_type": "code",
   "execution_count": null,
   "id": "6eea5f4f",
   "metadata": {},
   "outputs": [
    {
     "data": {
      "image/png": "[encoded data removed]",
      "text/plain": [
       "<Figure size 640x480 with 1 Axes>"
      ]
     },
     "metadata": {},
     "output_type": "display_data"
    }
   ],
   "source": [
    "# Compara el número de minutos mensuales que necesitan los usuarios de cada plan. Traza un histograma.\n",
    "sns.histplot(data=total_info, x=total_info['total_duration'], hue=total_info['tariff'], multiple='layer')\n",
    "plt.title('Histograma de la duración de las llamadas')\n",
    "plt.xlabel('Duración de la llamada')\n",
    "plt.ylabel('Frecuencia')\n",
    "plt.show()"
   ]
  },
  {
   "cell_type": "markdown",
   "id": "3fc2a493",
   "metadata": {},
   "source": [
    "[Calcula la media y la varianza de la duración de las llamadas para averiguar si los usuarios de los distintos planes se comportan de forma diferente al realizar sus llamadas.]"
   ]
  },
  {
   "cell_type": "code",
   "execution_count": null,
   "id": "2bd6c26c",
   "metadata": {},
   "outputs": [
    {
     "name": "stdout",
     "output_type": "stream",
     "text": [
      "month\n",
      "1     14.500000\n",
      "2     46.894737\n",
      "3     89.294118\n",
      "4    135.207692\n",
      "5    182.059172\n",
      "Name: total_duration, dtype: float64\n",
      "15827.85\n",
      "----------------------------------------\n",
      "month\n",
      "1     48.375000\n",
      "2    117.583333\n",
      "3     98.675676\n",
      "4    121.965517\n",
      "5    159.202703\n",
      "Name: total_duration, dtype: float64\n",
      "12812.71\n"
     ]
    }
   ],
   "source": [
    "# Calcula la media y la varianza de la duración mensual de llamadas.\n",
    "mean_duration_surf = total_info[total_info['tariff']=='surf'].groupby('month')['total_duration'].mean()\n",
    "variance_surf = np.var(mean_duration_surf, axis=0)\n",
    "\n",
    "mean_duration_ultimate = total_info[total_info['tariff']=='ultimate'].groupby('month')['total_duration'].mean()\n",
    "variance_ultimate = np.var(mean_duration_ultimate,axis=0)\n",
    "\n",
    "print(mean_duration_surf.head())\n",
    "print(round(variance_surf,2))\n",
    "print('-'*40)\n",
    "print(mean_duration_ultimate.head(5))\n",
    "print(round(variance_ultimate,2))"
   ]
  },
  {
   "cell_type": "code",
   "execution_count": 231,
   "id": "d344a218",
   "metadata": {},
   "outputs": [
    {
     "data": {
      "image/png": "[encoded data removed]",
      "text/plain": [
       "<Figure size 640x480 with 1 Axes>"
      ]
     },
     "metadata": {},
     "output_type": "display_data"
    }
   ],
   "source": [
    "# Traza un diagrama de caja para visualizar la distribución de la duración mensual de llamadas\n",
    "sns.boxplot(data=total_info, x='total_duration', hue='tariff')\n",
    "plt.show()"
   ]
  },
  {
   "cell_type": "code",
   "execution_count": 241,
   "id": "61d4da7a",
   "metadata": {},
   "outputs": [
    {
     "name": "stdout",
     "output_type": "stream",
     "text": [
      "count    2445.000000\n",
      "mean      275.837628\n",
      "std       278.481852\n",
      "min         0.000000\n",
      "25%         0.000000\n",
      "50%       251.000000\n",
      "75%       483.000000\n",
      "max      1510.000000\n",
      "Name: total_duration, dtype: float64\n",
      "----------------------------------------------------------------------\n",
      "count    1109.000000\n",
      "mean      279.462579\n",
      "std       282.435251\n",
      "min         0.000000\n",
      "25%         0.000000\n",
      "50%       245.000000\n",
      "75%       477.000000\n",
      "max      1369.000000\n",
      "Name: total_duration, dtype: float64\n"
     ]
    }
   ],
   "source": [
    "surf_duration = total_info[total_info['tariff']=='surf']\n",
    "ultimate_duration = total_info[total_info['tariff']=='ultimate']\n",
    "\n",
    "print(surf_duration['total_duration'].describe())\n",
    "print('-'*70)\n",
    "print(ultimate_duration['total_duration'].describe())\n"
   ]
  },
  {
   "cell_type": "markdown",
   "id": "cf4004f8",
   "metadata": {},
   "source": [
    "[Elabora las conclusiones sobre el comportamiento de los usuarios con respecto a las llamadas. ¿Su comportamiento varía en función del plan?]\n",
    "\n",
    "\n",
    "Ambos planes parecen ser bastante similares en cuanto al comportamiento de los consumidores. El espacio intercuartílico o IQR va de 0 a 483 aproximadamente en el plan surf, siendo la mediana el valor correspondiente a 251. Lo que nos indica que es una duración típica del plan surf.\n",
    "Hablando del plan ultimate, su IQR va desde 0 hasta 477, su mediana o Q2 corresponde a 245, bastante similar. \n",
    "\n",
    "En cuanto a valores máximos y minimos, en el plan surf el valor mínimo corresponde a 0 al igual que el del plan ultimate, ahora en cuanto a valores máximos, para el plan surf corresponde a 1510, siendo para el plan ultimate 1369 igualmente.\n",
    "Esto nos deja ver una duración muy similar entre planes, aun aí, el plan surf tiene mayor consumo respecto al ultimate."
   ]
  },
  {
   "cell_type": "markdown",
   "id": "0ef7206e",
   "metadata": {},
   "source": [
    "### Mensajes"
   ]
  },
  {
   "cell_type": "code",
   "execution_count": 173,
   "id": "a5ba6659",
   "metadata": {},
   "outputs": [
    {
     "data": {
      "image/png": "[encoded data removed]",
      "text/plain": [
       "<Figure size 640x480 with 1 Axes>"
      ]
     },
     "metadata": {},
     "output_type": "display_data"
    }
   ],
   "source": [
    "# Comprara el número de mensajes que tienden a enviar cada mes los usuarios de cada plan\n",
    "sms_surf = total_info[total_info['tariff']=='surf'].groupby('month')['total_messages'].mean().reset_index()\n",
    "sms_ultimate = total_info[total_info['tariff']=='ultimate'].groupby('month')['total_messages'].mean().reset_index()\n",
    "\n",
    "total_messages = sms_surf.merge(sms_ultimate, on='month')\n",
    "total_messages.columns = ['month', 'surf','ultimate']\n",
    "\n",
    "total_messages.plot(kind='bar', x='month')\n",
    "plt.title('Total de mensajes por plan')\n",
    "plt.xlabel('Mes')\n",
    "plt.ylabel('Número de mensajes')\n",
    "plt.legend(['Plan surf','Plan ultimate'])\n",
    "plt.show()"
   ]
  },
  {
   "cell_type": "code",
   "execution_count": null,
   "id": "60be6982",
   "metadata": {},
   "outputs": [
    {
     "data": {
      "image/png": "[encoded data removed]",
      "text/plain": [
       "<Figure size 640x480 with 1 Axes>"
      ]
     },
     "metadata": {},
     "output_type": "display_data"
    }
   ],
   "source": [
    "#Hacer histograma\n",
    "sns.histplot(data=total_info, x=total_info['total_messages'], hue=total_info['tariff'], multiple='layer')\n",
    "plt.title('Histograma del total de mensajes enviados')\n",
    "plt.xlabel('Cantidad de mensajes')\n",
    "plt.ylabel('Frecuencia')\n",
    "plt.show()"
   ]
  },
  {
   "cell_type": "markdown",
   "id": "57fd021a",
   "metadata": {},
   "source": [
    "[Calcula la media y la varianza para averiguar si los usuarios de los distintos planes se comportan de forma diferente.]"
   ]
  },
  {
   "cell_type": "code",
   "execution_count": null,
   "id": "a447ad21",
   "metadata": {},
   "outputs": [
    {
     "name": "stdout",
     "output_type": "stream",
     "text": [
      "month\n",
      "1    20.821429\n",
      "2    22.596491\n",
      "3    31.458824\n",
      "4    28.869231\n",
      "5    31.491124\n",
      "Name: total_messages, dtype: float64\n",
      "33.6\n",
      "----------------------------------------\n",
      "month\n",
      "1    21.312500\n",
      "2    26.500000\n",
      "3    26.324324\n",
      "4    24.586207\n",
      "5    26.702703\n",
      "Name: total_messages, dtype: float64\n",
      "37.79\n"
     ]
    }
   ],
   "source": [
    "# Calcula la media y la varianza de los mensajes enviados al mes.\n",
    "mean_sms_surf = total_info[total_info['tariff']=='surf'].groupby('month')['total_messages'].mean()\n",
    "variance_surf = np.var(mean_sms_surf, axis=0)\n",
    "\n",
    "mean_sms_ultimate = total_info[total_info['tariff']=='ultimate'].groupby('month')['total_messages'].mean()\n",
    "variance_ultimate = np.var(mean_sms_ultimate,axis=0)\n",
    "\n",
    "print(mean_sms_surf.head())\n",
    "print(round(variance_surf,2))\n",
    "print('-'*40)\n",
    "print(mean_sms_ultimate.head(5))\n",
    "print(round(variance_ultimate,2))"
   ]
  },
  {
   "cell_type": "code",
   "execution_count": 244,
   "id": "9e41aa4e",
   "metadata": {},
   "outputs": [
    {
     "data": {
      "image/png": "[encoded data removed]",
      "text/plain": [
       "<Figure size 640x480 with 1 Axes>"
      ]
     },
     "metadata": {},
     "output_type": "display_data"
    }
   ],
   "source": [
    "# Traza un diagrama de caja para visualizar la distribución de la duración mensual de llamadas\n",
    "sns.boxplot(data=total_info, x='total_messages', hue='tariff')\n",
    "plt.show()"
   ]
  },
  {
   "cell_type": "code",
   "execution_count": 246,
   "id": "87f7f06d",
   "metadata": {},
   "outputs": [
    {
     "name": "stdout",
     "output_type": "stream",
     "text": [
      "count    2445.000000\n",
      "mean       34.563190\n",
      "std        36.260884\n",
      "min         0.000000\n",
      "25%         1.000000\n",
      "50%        25.000000\n",
      "75%        54.000000\n",
      "max       224.000000\n",
      "Name: total_messages, dtype: float64\n",
      "----------------------------------------------------------------------\n",
      "count    1109.000000\n",
      "mean       34.742110\n",
      "std        35.994111\n",
      "min         0.000000\n",
      "25%         3.000000\n",
      "50%        27.000000\n",
      "75%        53.000000\n",
      "max       223.000000\n",
      "Name: total_messages, dtype: float64\n"
     ]
    }
   ],
   "source": [
    "surf_sms = total_info[total_info['tariff']=='surf']\n",
    "ultimate_sms = total_info[total_info['tariff']=='ultimate']\n",
    "\n",
    "print(surf_sms['total_messages'].describe())\n",
    "print('-'*70)\n",
    "print(ultimate_sms['total_messages'].describe())"
   ]
  },
  {
   "cell_type": "markdown",
   "id": "10b0691b",
   "metadata": {},
   "source": [
    "[Elabora las conclusiones sobre el comportamiento de los usuarios con respecto a los mensajes. ¿Su comportamiento varía en función del plan?]\n",
    "\n",
    "Los usuarios tienden a enviar la misma cantidad de mensajes. En cuanto a IQR, el plan surf va de 1 a 54, con una mediana de 25, mientras que el ultimate va de 3 a 53, con una mediana de 27.\n",
    "\n",
    "En cuanto valores mínimos y máximos, el plan surf es de 0 y 224 respectivamente, mientras que el ultimate es de 0 y 223 respectivamente.\n",
    "\n",
    "En cuanto a mensajes, el consumo es muy similar."
   ]
  },
  {
   "cell_type": "markdown",
   "id": "1918edd5",
   "metadata": {},
   "source": [
    "### Internet"
   ]
  },
  {
   "cell_type": "code",
   "execution_count": 172,
   "id": "5343dbed",
   "metadata": {},
   "outputs": [
    {
     "data": {
      "image/png": "[encoded data removed]",
      "text/plain": [
       "<Figure size 640x480 with 1 Axes>"
      ]
     },
     "metadata": {},
     "output_type": "display_data"
    }
   ],
   "source": [
    "# Compara la cantidad de tráfico de Internet consumido por usuarios por plan\n",
    "gb_surf = total_info[total_info['tariff']=='surf'].groupby('month')['gb_used'].mean().reset_index()\n",
    "gb_ultimate = total_info[total_info['tariff']=='ultimate'].groupby('month')['gb_used'].mean().reset_index()\n",
    "\n",
    "total_gb = gb_surf.merge(gb_ultimate, on='month')\n",
    "total_gb.columns = ['month', 'surf', 'ultimate']\n",
    "\n",
    "total_gb[['surf','ultimate']].plot(kind='bar')\n",
    "plt.title('Total de gb utilizados por plan')\n",
    "plt.xlabel('Mes')\n",
    "plt.ylabel('GB utilizados')\n",
    "plt.show()"
   ]
  },
  {
   "cell_type": "code",
   "execution_count": 247,
   "id": "02834a11",
   "metadata": {},
   "outputs": [
    {
     "data": {
      "image/png": "[encoded data removed]",
      "text/plain": [
       "<Figure size 640x480 with 1 Axes>"
      ]
     },
     "metadata": {},
     "output_type": "display_data"
    }
   ],
   "source": [
    "sns.histplot(data=total_info,x='gb_used',hue='tariff',multiple='layer')\n",
    "plt.title('Histograma del internet usado')\n",
    "plt.xlabel('GB usados')\n",
    "plt.ylabel('Frecuencia')\n",
    "plt.show()"
   ]
  },
  {
   "cell_type": "markdown",
   "id": "34ac9782",
   "metadata": {},
   "source": [
    "[Calcula la media y la varianza para averiguar si los usuarios de los distintos planes se comportan de forma diferente.]"
   ]
  },
  {
   "cell_type": "code",
   "execution_count": 248,
   "id": "48357bc4",
   "metadata": {},
   "outputs": [
    {
     "name": "stdout",
     "output_type": "stream",
     "text": [
      "month\n",
      "1    0.357143\n",
      "2    1.929825\n",
      "3    3.670588\n",
      "4    4.700000\n",
      "5    6.431953\n",
      "Name: gb_used, dtype: float64\n",
      "24.85\n",
      "----------------------------------------\n",
      "month\n",
      "1    1.812500\n",
      "2    5.041667\n",
      "3    5.972973\n",
      "4    5.913793\n",
      "5    6.608108\n",
      "Name: gb_used, dtype: float64\n",
      "17.64\n"
     ]
    }
   ],
   "source": [
    "# Calcula la media y la varianza\n",
    "mean_gb_surf = total_info[total_info['tariff']=='surf'].groupby('month')['gb_used'].mean()\n",
    "variance_surf = np.var(mean_gb_surf, axis=0)\n",
    "\n",
    "mean_gb_ultimate = total_info[total_info['tariff']=='ultimate'].groupby('month')['gb_used'].mean()\n",
    "variance_ultimate = np.var(mean_gb_ultimate,axis=0)\n",
    "\n",
    "print(mean_gb_surf.head())\n",
    "print(round(variance_surf,2))\n",
    "print('-'*40)\n",
    "print(mean_gb_ultimate.head(5))\n",
    "print(round(variance_ultimate,2))"
   ]
  },
  {
   "cell_type": "code",
   "execution_count": 249,
   "id": "5ad4c159",
   "metadata": {},
   "outputs": [
    {
     "data": {
      "image/png": "[encoded data removed]",
      "text/plain": [
       "<Figure size 640x480 with 1 Axes>"
      ]
     },
     "metadata": {},
     "output_type": "display_data"
    }
   ],
   "source": [
    "# Traza un diagrama de caja para visualizar la distribución\n",
    "sns.boxplot(data=total_info, x='gb_used', hue='tariff')\n",
    "plt.show()"
   ]
  },
  {
   "cell_type": "code",
   "execution_count": 250,
   "id": "6d7060f3",
   "metadata": {},
   "outputs": [
    {
     "name": "stdout",
     "output_type": "stream",
     "text": [
      "count    2445.000000\n",
      "mean       10.725153\n",
      "std        10.168774\n",
      "min         0.000000\n",
      "25%         0.000000\n",
      "50%        11.000000\n",
      "75%        18.000000\n",
      "max        70.000000\n",
      "Name: gb_used, dtype: float64\n",
      "----------------------------------------------------------------------\n",
      "count    1109.000000\n",
      "mean       11.236249\n",
      "std        10.317439\n",
      "min         0.000000\n",
      "25%         0.000000\n",
      "50%        12.000000\n",
      "75%        18.000000\n",
      "max        46.000000\n",
      "Name: gb_used, dtype: float64\n"
     ]
    }
   ],
   "source": [
    "surf_gb = total_info[total_info['tariff']=='surf']\n",
    "ultimate_gb = total_info[total_info['tariff']=='ultimate']\n",
    "\n",
    "print(surf_gb['gb_used'].describe())\n",
    "print('-'*70)\n",
    "print(ultimate_gb['gb_used'].describe())"
   ]
  },
  {
   "cell_type": "markdown",
   "id": "ed4ac092",
   "metadata": {},
   "source": [
    "[Elabora las conclusiones sobre cómo los usuarios tienden a consumir el tráfico de Internet. ¿Su comportamiento varía en función del plan?]\n",
    "\n",
    "Nos encontramos un histograma con sesgo a la derecha.\n",
    "\n",
    "\n",
    "En cuanto a las cajas, los valores minimos y máximos del plan surf son: 0 y 70 respectivamente con una mediana de 11. Por otro lado, los valores minimos y máximos del plan ultimate son: 0 y 46 respectivamente, con una mediana de 12 gb aproximadamente."
   ]
  },
  {
   "cell_type": "markdown",
   "id": "b23c1d06",
   "metadata": {},
   "source": [
    "### Ingreso"
   ]
  },
  {
   "cell_type": "markdown",
   "id": "63299767",
   "metadata": {},
   "source": [
    "[Del mismo modo que has estudiado el comportamiento de los usuarios, describe estadísticamente los ingresos de los planes.]"
   ]
  },
  {
   "cell_type": "code",
   "execution_count": 167,
   "id": "3d3463d7",
   "metadata": {},
   "outputs": [
    {
     "data": {
      "text/html": [
       "<div>\n",
       "<style scoped>\n",
       "    .dataframe tbody tr th:only-of-type {\n",
       "        vertical-align: middle;\n",
       "    }\n",
       "\n",
       "    .dataframe tbody tr th {\n",
       "        vertical-align: top;\n",
       "    }\n",
       "\n",
       "    .dataframe thead th {\n",
       "        text-align: right;\n",
       "    }\n",
       "</style>\n",
       "<table border=\"1\" class=\"dataframe\">\n",
       "  <thead>\n",
       "    <tr style=\"text-align: right;\">\n",
       "      <th></th>\n",
       "      <th>user_id</th>\n",
       "      <th>month</th>\n",
       "      <th>total_duration</th>\n",
       "      <th>total_calls</th>\n",
       "      <th>total_messages</th>\n",
       "      <th>gb_used</th>\n",
       "      <th>first_name</th>\n",
       "      <th>last_name</th>\n",
       "      <th>age</th>\n",
       "      <th>city</th>\n",
       "      <th>...</th>\n",
       "      <th>minutes_included</th>\n",
       "      <th>usd_monthly_pay</th>\n",
       "      <th>usd_per_gb</th>\n",
       "      <th>usd_per_message</th>\n",
       "      <th>usd_per_minute</th>\n",
       "      <th>gb_per_month_included</th>\n",
       "      <th>usd_extra_minutes</th>\n",
       "      <th>usd_extra_messages</th>\n",
       "      <th>usd_extra_gb</th>\n",
       "      <th>total_payment</th>\n",
       "    </tr>\n",
       "  </thead>\n",
       "  <tbody>\n",
       "    <tr>\n",
       "      <th>0</th>\n",
       "      <td>1000</td>\n",
       "      <td>5</td>\n",
       "      <td>0.0</td>\n",
       "      <td>0.0</td>\n",
       "      <td>22.0</td>\n",
       "      <td>0.0</td>\n",
       "      <td>Anamaria</td>\n",
       "      <td>Bauer</td>\n",
       "      <td>45</td>\n",
       "      <td>Atlanta-Sandy Springs-Roswell, GA MSA</td>\n",
       "      <td>...</td>\n",
       "      <td>3000</td>\n",
       "      <td>70</td>\n",
       "      <td>7</td>\n",
       "      <td>0.01</td>\n",
       "      <td>0.01</td>\n",
       "      <td>30.0</td>\n",
       "      <td>0.0</td>\n",
       "      <td>0.0</td>\n",
       "      <td>0.0</td>\n",
       "      <td>70.0</td>\n",
       "    </tr>\n",
       "    <tr>\n",
       "      <th>1</th>\n",
       "      <td>1000</td>\n",
       "      <td>6</td>\n",
       "      <td>0.0</td>\n",
       "      <td>0.0</td>\n",
       "      <td>60.0</td>\n",
       "      <td>0.0</td>\n",
       "      <td>Anamaria</td>\n",
       "      <td>Bauer</td>\n",
       "      <td>45</td>\n",
       "      <td>Atlanta-Sandy Springs-Roswell, GA MSA</td>\n",
       "      <td>...</td>\n",
       "      <td>3000</td>\n",
       "      <td>70</td>\n",
       "      <td>7</td>\n",
       "      <td>0.01</td>\n",
       "      <td>0.01</td>\n",
       "      <td>30.0</td>\n",
       "      <td>0.0</td>\n",
       "      <td>0.0</td>\n",
       "      <td>0.0</td>\n",
       "      <td>70.0</td>\n",
       "    </tr>\n",
       "  </tbody>\n",
       "</table>\n",
       "<p>2 rows × 25 columns</p>\n",
       "</div>"
      ],
      "text/plain": [
       "   user_id  month  total_duration  total_calls  total_messages  gb_used  \\\n",
       "0     1000      5             0.0          0.0            22.0      0.0   \n",
       "1     1000      6             0.0          0.0            60.0      0.0   \n",
       "\n",
       "  first_name last_name  age                                   city  ...  \\\n",
       "0   Anamaria     Bauer   45  Atlanta-Sandy Springs-Roswell, GA MSA  ...   \n",
       "1   Anamaria     Bauer   45  Atlanta-Sandy Springs-Roswell, GA MSA  ...   \n",
       "\n",
       "  minutes_included usd_monthly_pay usd_per_gb  usd_per_message  \\\n",
       "0             3000              70          7             0.01   \n",
       "1             3000              70          7             0.01   \n",
       "\n",
       "   usd_per_minute  gb_per_month_included  usd_extra_minutes  \\\n",
       "0            0.01                   30.0                0.0   \n",
       "1            0.01                   30.0                0.0   \n",
       "\n",
       "   usd_extra_messages  usd_extra_gb  total_payment  \n",
       "0                 0.0           0.0           70.0  \n",
       "1                 0.0           0.0           70.0  \n",
       "\n",
       "[2 rows x 25 columns]"
      ]
     },
     "execution_count": 167,
     "metadata": {},
     "output_type": "execute_result"
    }
   ],
   "source": [
    "total_info.head(2)"
   ]
  },
  {
   "cell_type": "code",
   "execution_count": 171,
   "id": "97fbf2ae",
   "metadata": {},
   "outputs": [
    {
     "data": {
      "image/png": "[encoded data removed]",
      "text/plain": [
       "<Figure size 640x480 with 1 Axes>"
      ]
     },
     "metadata": {},
     "output_type": "display_data"
    },
    {
     "data": {
      "image/png": "[encoded data removed]",
      "text/plain": [
       "<Figure size 640x480 with 1 Axes>"
      ]
     },
     "metadata": {},
     "output_type": "display_data"
    }
   ],
   "source": [
    "price_surf = total_info[total_info['tariff']=='surf'].groupby('month')['total_payment'].mean().reset_index()\n",
    "price_ultimate = total_info[total_info['tariff']=='ultimate'].groupby('month')['total_payment'].mean().reset_index()\n",
    "\n",
    "total_payment = price_surf.merge(price_ultimate, on='month')\n",
    "total_payment.columns = ['month','surf','ultimate']\n",
    "total_payment.plot(kind='bar', x='month')\n",
    "plt.title('Ingreso por mes comparado entre planes')\n",
    "plt.xlabel('Mes')\n",
    "plt.ylabel('Ingreso')\n",
    "\n",
    "total_payment[['surf','ultimate']].plot(kind='hist',alpha=0.5, bins=40)\n",
    "plt.show()"
   ]
  },
  {
   "cell_type": "code",
   "execution_count": 169,
   "id": "d9a56663",
   "metadata": {},
   "outputs": [
    {
     "data": {
      "text/plain": [
       "<Axes: >"
      ]
     },
     "execution_count": 169,
     "metadata": {},
     "output_type": "execute_result"
    },
    {
     "data": {
      "image/png": "[encoded data removed]",
      "text/plain": [
       "<Figure size 640x480 with 1 Axes>"
      ]
     },
     "metadata": {},
     "output_type": "display_data"
    }
   ],
   "source": [
    "mean_price_surf = total_info[total_info['tariff']=='surf'].groupby('month')['total_payment'].mean().reset_index()\n",
    "variance_price_surf = np.var(mean_price_surf, axis=0)\n",
    "\n",
    "mean_price_ultimate = total_info[total_info['tariff']=='ultimate'].groupby('month')['total_payment'].mean().reset_index()\n",
    "variance_price_ultimate = np.var(mean_price_ultimate, axis=0)\n",
    "\n",
    "income_boxplot = pd.Series(mean_price_surf['total_payment'],name='surf').to_frame().join(pd.Series(mean_price_ultimate['total_payment'],name='ultimate'))\n",
    "\n",
    "sns.boxplot(data=income_boxplot, width=0.5)"
   ]
  },
  {
   "cell_type": "code",
   "execution_count": 170,
   "id": "49e8c3fd",
   "metadata": {},
   "outputs": [
    {
     "data": {
      "text/html": [
       "<div>\n",
       "<style scoped>\n",
       "    .dataframe tbody tr th:only-of-type {\n",
       "        vertical-align: middle;\n",
       "    }\n",
       "\n",
       "    .dataframe tbody tr th {\n",
       "        vertical-align: top;\n",
       "    }\n",
       "\n",
       "    .dataframe thead th {\n",
       "        text-align: right;\n",
       "    }\n",
       "</style>\n",
       "<table border=\"1\" class=\"dataframe\">\n",
       "  <thead>\n",
       "    <tr style=\"text-align: right;\">\n",
       "      <th></th>\n",
       "      <th>surf</th>\n",
       "      <th>ultimate</th>\n",
       "    </tr>\n",
       "  </thead>\n",
       "  <tbody>\n",
       "    <tr>\n",
       "      <th>count</th>\n",
       "      <td>12.000000</td>\n",
       "      <td>12.000000</td>\n",
       "    </tr>\n",
       "    <tr>\n",
       "      <th>mean</th>\n",
       "      <td>39.553308</td>\n",
       "      <td>71.174958</td>\n",
       "    </tr>\n",
       "    <tr>\n",
       "      <th>std</th>\n",
       "      <td>14.696783</td>\n",
       "      <td>0.861176</td>\n",
       "    </tr>\n",
       "    <tr>\n",
       "      <th>min</th>\n",
       "      <td>20.057857</td>\n",
       "      <td>70.000000</td>\n",
       "    </tr>\n",
       "    <tr>\n",
       "      <th>25%</th>\n",
       "      <td>27.893437</td>\n",
       "      <td>70.712613</td>\n",
       "    </tr>\n",
       "    <tr>\n",
       "      <th>50%</th>\n",
       "      <td>38.086897</td>\n",
       "      <td>71.222097</td>\n",
       "    </tr>\n",
       "    <tr>\n",
       "      <th>75%</th>\n",
       "      <td>47.715073</td>\n",
       "      <td>71.557549</td>\n",
       "    </tr>\n",
       "    <tr>\n",
       "      <th>max</th>\n",
       "      <td>68.495964</td>\n",
       "      <td>73.106250</td>\n",
       "    </tr>\n",
       "  </tbody>\n",
       "</table>\n",
       "</div>"
      ],
      "text/plain": [
       "            surf   ultimate\n",
       "count  12.000000  12.000000\n",
       "mean   39.553308  71.174958\n",
       "std    14.696783   0.861176\n",
       "min    20.057857  70.000000\n",
       "25%    27.893437  70.712613\n",
       "50%    38.086897  71.222097\n",
       "75%    47.715073  71.557549\n",
       "max    68.495964  73.106250"
      ]
     },
     "execution_count": 170,
     "metadata": {},
     "output_type": "execute_result"
    }
   ],
   "source": [
    "income_boxplot.describe()"
   ]
  }
 ],
 "metadata": {
  "kernelspec": {
   "display_name": "sprint5 (3.13.2)",
   "language": "python",
   "name": "python3"
  },
  "language_info": {
   "codemirror_mode": {
    "name": "ipython",
    "version": 3
   },
   "file_extension": ".py",
   "mimetype": "text/x-python",
   "name": "python",
   "nbconvert_exporter": "python",
   "pygments_lexer": "ipython3",
   "version": "3.13.2"
  }
 },
 "nbformat": 4,
 "nbformat_minor": 5
}
